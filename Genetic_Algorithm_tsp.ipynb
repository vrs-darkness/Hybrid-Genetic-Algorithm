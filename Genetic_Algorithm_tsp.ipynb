{
 "cells": [
  {
   "cell_type": "code",
   "execution_count": 2,
   "metadata": {},
   "outputs": [],
   "source": [
    "import pandas as pd \n",
    "import numpy as np\n",
    "import random \n",
    "import math\n",
    "from tqdm import tqdm\n",
    "from numba import jit"
   ]
  },
  {
   "cell_type": "code",
   "execution_count": 6,
   "metadata": {},
   "outputs": [],
   "source": [
    "tsp_path = np.array([['NA',9,6,7,'NA'],[9,'NA',3,'NA',10],[6,3,'NA',5,4],[7,'NA',5,'NA',8],['NA',10,4,8,'NA']])"
   ]
  },
  {
   "cell_type": "code",
   "execution_count": 7,
   "metadata": {},
   "outputs": [],
   "source": [
    "cities='ABCDE'\n",
    "paths=[]"
   ]
  },
  {
   "cell_type": "code",
   "execution_count": 8,
   "metadata": {},
   "outputs": [],
   "source": [
    "def path(tsp_path,i,not_visit,path1,cities):\n",
    "    count = 0\n",
    "    for j in range(0,len(tsp_path[i])):\n",
    "        if cities[j] not in not_visit  and tsp_path[i][j]!='NA':\n",
    "            not_visit.append(cities[j])\n",
    "            path1 = path1 +'-'+cities[j]\n",
    "            path(tsp_path,j,not_visit,path1,cities)\n",
    "            not_visit.pop()\n",
    "            path1 = path1[:-2]\n",
    "            count+=1\n",
    "    if(count==0):\n",
    "        if(len(path1)==(len(cities)*2)-1):\n",
    "            paths.append(path1)"
   ]
  },
  {
   "cell_type": "code",
   "execution_count": 9,
   "metadata": {},
   "outputs": [],
   "source": [
    "for i in range(0,len(cities)):\n",
    "    not_visit=[]\n",
    "    not_visit.append(cities[i])\n",
    "    path(tsp_path,i,not_visit,cities[i],cities)"
   ]
  },
  {
   "cell_type": "code",
   "execution_count": 10,
   "metadata": {},
   "outputs": [],
   "source": [
    "new_paths = []\n",
    "for i in range(0,len(paths)):\n",
    "    if tsp_path[cities.index(paths[i][-1])][cities.index(paths[i][0])]!='NA':\n",
    "        new_paths.append(paths[i] + \"-\" + paths[i][0])"
   ]
  },
  {
   "cell_type": "code",
   "execution_count": 11,
   "metadata": {},
   "outputs": [
    {
     "data": {
      "text/plain": [
       "['A-B-C-E-D-A',\n",
       " 'A-B-E-C-D-A',\n",
       " 'A-B-E-D-C-A',\n",
       " 'A-C-B-E-D-A',\n",
       " 'A-C-D-E-B-A',\n",
       " 'A-D-C-E-B-A',\n",
       " 'A-D-E-B-C-A',\n",
       " 'A-D-E-C-B-A',\n",
       " 'B-A-C-D-E-B',\n",
       " 'B-A-D-C-E-B',\n",
       " 'B-A-D-E-C-B',\n",
       " 'B-C-A-D-E-B',\n",
       " 'B-C-E-D-A-B',\n",
       " 'B-E-C-D-A-B',\n",
       " 'B-E-D-A-C-B',\n",
       " 'B-E-D-C-A-B',\n",
       " 'C-A-B-E-D-C',\n",
       " 'C-A-D-E-B-C',\n",
       " 'C-B-A-D-E-C',\n",
       " 'C-B-E-D-A-C',\n",
       " 'C-D-A-B-E-C',\n",
       " 'C-D-E-B-A-C',\n",
       " 'C-E-B-A-D-C',\n",
       " 'C-E-D-A-B-C',\n",
       " 'D-A-B-C-E-D',\n",
       " 'D-A-B-E-C-D',\n",
       " 'D-A-C-B-E-D',\n",
       " 'D-C-A-B-E-D',\n",
       " 'D-C-E-B-A-D',\n",
       " 'D-E-B-A-C-D',\n",
       " 'D-E-B-C-A-D',\n",
       " 'D-E-C-B-A-D',\n",
       " 'E-B-A-C-D-E',\n",
       " 'E-B-A-D-C-E',\n",
       " 'E-B-C-A-D-E',\n",
       " 'E-C-B-A-D-E',\n",
       " 'E-C-D-A-B-E',\n",
       " 'E-D-A-B-C-E',\n",
       " 'E-D-A-C-B-E',\n",
       " 'E-D-C-A-B-E']"
      ]
     },
     "execution_count": 11,
     "metadata": {},
     "output_type": "execute_result"
    }
   ],
   "source": [
    "new_paths"
   ]
  },
  {
   "cell_type": "code",
   "execution_count": 12,
   "metadata": {},
   "outputs": [],
   "source": [
    "df = pd.DataFrame(data=new_paths,columns=[\"possible paths\"])"
   ]
  },
  {
   "cell_type": "code",
   "execution_count": 13,
   "metadata": {},
   "outputs": [],
   "source": [
    "def Score(path):\n",
    "    total = 0 \n",
    "    for i in range(0,len(path)-1,2):\n",
    "        total+=(int)(tsp_path[cities.find(path[i])][cities.find(path[i+2])])\n",
    "    return total\n",
    "Cost = np.vectorize(Score)(np.array(new_paths))\n",
    "df['Cost'] = Cost\n"
   ]
  },
  {
   "cell_type": "code",
   "execution_count": 14,
   "metadata": {},
   "outputs": [
    {
     "data": {
      "text/html": [
       "<div>\n",
       "<style scoped>\n",
       "    .dataframe tbody tr th:only-of-type {\n",
       "        vertical-align: middle;\n",
       "    }\n",
       "\n",
       "    .dataframe tbody tr th {\n",
       "        vertical-align: top;\n",
       "    }\n",
       "\n",
       "    .dataframe thead th {\n",
       "        text-align: right;\n",
       "    }\n",
       "</style>\n",
       "<table border=\"1\" class=\"dataframe\">\n",
       "  <thead>\n",
       "    <tr style=\"text-align: right;\">\n",
       "      <th></th>\n",
       "      <th>possible paths</th>\n",
       "      <th>Cost</th>\n",
       "    </tr>\n",
       "  </thead>\n",
       "  <tbody>\n",
       "    <tr>\n",
       "      <th>0</th>\n",
       "      <td>A-B-C-E-D-A</td>\n",
       "      <td>31</td>\n",
       "    </tr>\n",
       "    <tr>\n",
       "      <th>1</th>\n",
       "      <td>A-B-E-C-D-A</td>\n",
       "      <td>35</td>\n",
       "    </tr>\n",
       "    <tr>\n",
       "      <th>2</th>\n",
       "      <td>A-B-E-D-C-A</td>\n",
       "      <td>38</td>\n",
       "    </tr>\n",
       "    <tr>\n",
       "      <th>3</th>\n",
       "      <td>A-C-B-E-D-A</td>\n",
       "      <td>34</td>\n",
       "    </tr>\n",
       "    <tr>\n",
       "      <th>4</th>\n",
       "      <td>A-C-D-E-B-A</td>\n",
       "      <td>38</td>\n",
       "    </tr>\n",
       "  </tbody>\n",
       "</table>\n",
       "</div>"
      ],
      "text/plain": [
       "  possible paths  Cost\n",
       "0    A-B-C-E-D-A    31\n",
       "1    A-B-E-C-D-A    35\n",
       "2    A-B-E-D-C-A    38\n",
       "3    A-C-B-E-D-A    34\n",
       "4    A-C-D-E-B-A    38"
      ]
     },
     "execution_count": 14,
     "metadata": {},
     "output_type": "execute_result"
    }
   ],
   "source": [
    "df.head()"
   ]
  },
  {
   "cell_type": "markdown",
   "metadata": {},
   "source": [
    "# Procedure\n",
    "### Based on tournament selection choose top 2 parent \n",
    "### Cross over using bit wise swap\n",
    "### Mutation Bit wise\n",
    "### Updated it"
   ]
  },
  {
   "cell_type": "code",
   "execution_count": 15,
   "metadata": {},
   "outputs": [],
   "source": [
    "def RandomKSelect(K,par,df):\n",
    "    count=0\n",
    "    lst = []\n",
    "    while(count!=K):\n",
    "        temp = random.randint(0,df.shape[0]-1)\n",
    "        if(temp not in lst and temp!=par):\n",
    "            lst.append(temp)\n",
    "            count+=1\n",
    "    return lst\n",
    "# pare1  = RandomKSelect(4,None)\n",
    "# parent1 = pare1[df['Cost'][pare1].argmin()]\n",
    "# pare2 = RandomKSelect(4,parent1)\n",
    "# parent2 = pare2[df['Cost'][pare2].argmin()]"
   ]
  },
  {
   "cell_type": "code",
   "execution_count": 16,
   "metadata": {},
   "outputs": [],
   "source": [
    "def Min(df,par):\n",
    "    s = df[['Cost']].iloc[par]\n",
    "    Min = list(s.values)\n",
    "    temp = [list(i) for i in Min]\n",
    "    ans = sorted(temp)[0]\n",
    "    return par[temp.index(ans)]"
   ]
  },
  {
   "cell_type": "code",
   "execution_count": 17,
   "metadata": {},
   "outputs": [
    {
     "data": {
      "text/plain": [
       "('D-A-B-C-E-D', 'C-E-D-A-B-C')"
      ]
     },
     "execution_count": 17,
     "metadata": {},
     "output_type": "execute_result"
    }
   ],
   "source": [
    "def CrossX(par1,par2,tsp_path,cities):\n",
    "    for i in range(1,len(par1)-1,4):\n",
    "        if((par2[i] not in par1[:i]) and (tsp_path[cities.find(par2[i])][cities.find(par1[i-2])]!=\"NA\") and (tsp_path[cities.find(par2[i])][cities.find(par1[i+2])]!=\"NA\")):\n",
    "            par1 = par1[:i] + par2[i] + par1[i+1:]\n",
    "        if((par1[i] not in par2[:i])  and (tsp_path[cities.find(par1[i])][cities.find(par2[i-2])]!=\"NA\") and (tsp_path[cities.find(par1[i])][cities.find(par2[i+2])]!=\"NA\") ):\n",
    "            par2 = par2[:i] + par1[i] + par2[i+1:]\n",
    "    return par1,par2\n",
    "\n",
    "# new_cross = np.array(CrossX(df['possible paths'][parent2],df['possible paths'][parent1]))\n",
    "\n",
    "CrossX('D-A-B-C-E-D','C-E-D-A-B-C',tsp_path,cities)"
   ]
  },
  {
   "cell_type": "code",
   "execution_count": 18,
   "metadata": {},
   "outputs": [],
   "source": [
    "def Mutate(new_cross,tsp_path,cities):\n",
    "    gen =[]\n",
    "    for i in range(0,len(new_cross)):\n",
    "        genome = new_cross[i]\n",
    "        pos1 = -1\n",
    "        pos2 = -1\n",
    "        c = 1\n",
    "        d = 1\n",
    "        e = 1 \n",
    "        f = 1\n",
    "        while(not(not(c) and not(d) and not(e) and not(f))):\n",
    "            pos1 = random.randint(0,len(cities)-1)\n",
    "            pos2 = random.randint(0,len(cities)-1)\n",
    "            while(cities[pos1]==genome[0] or cities[pos2]==genome[0] or pos1==pos2):\n",
    "                pos1 = random.randint(0,len(cities)-1)\n",
    "                pos2 = random.randint(0,len(cities)-1)\n",
    "            if(genome.find(cities[pos1]) - 2 >=0):\n",
    "                c = tsp_path[cities.find(genome[genome.find(cities[pos1])-2])][pos2]=='NA' \n",
    "            else :\n",
    "                c = 0\n",
    "            if(genome.find(cities[pos1]) + 2 < len(genome)):\n",
    "                d = tsp_path[cities.find(genome[genome.find(cities[pos1]) + 2])][pos2]=='NA'\n",
    "            else:\n",
    "                d = 0\n",
    "            if(genome.find(cities[pos2])-2 >=0):\n",
    "                e = tsp_path[cities.find(genome[genome.find(cities[pos2])-2])][pos1]=='NA'\n",
    "            else:\n",
    "                e = 0\n",
    "            if(genome.find(cities[pos2])+2 < len(genome)):\n",
    "                f = tsp_path[cities.find(genome[genome.find(cities[pos2]) + 2 ])][pos1]=='NA'\n",
    "            else:\n",
    "                f = 0\n",
    "        new_genome=\"\"\n",
    "        for q in genome:\n",
    "            if q==cities[pos1]:\n",
    "                new_genome += cities[pos2]\n",
    "            elif q==cities[pos2]:\n",
    "                new_genome += cities[pos1]\n",
    "            else:\n",
    "                new_genome += q\n",
    "        gen.append(new_genome)\n",
    "    return gen"
   ]
  },
  {
   "cell_type": "code",
   "execution_count": 19,
   "metadata": {},
   "outputs": [],
   "source": [
    "def Updater(parent1,parent2,new_cross,Cost,df,New_path,Costn):\n",
    "    Update_path = list(df['possible paths']) \n",
    "    Update_cost = list(df['Cost'])\n",
    "    new_df = pd.DataFrame()\n",
    "    parent = [parent1,parent2]\n",
    "    loc_opt_cost = Cost.min()\n",
    "    if(loc_opt_cost>Costn):\n",
    "        new_cross[Cost.argmin()] = New_path[0]\n",
    "        Cost[Cost.argmin()] =   Costn\n",
    "    for i in range(0,2):\n",
    "        Update_path[parent[i]] = new_cross[i]\n",
    "        Update_cost[parent[i]] = Cost[i]\n",
    "    new_df['possible paths'] = np.array(Update_path)\n",
    "    new_df['Cost'] = np.array(Update_cost)\n",
    "    return new_df\n",
    "\n",
    "# Updater()"
   ]
  },
  {
   "cell_type": "code",
   "execution_count": 20,
   "metadata": {},
   "outputs": [],
   "source": [
    "def percent(df):\n",
    "    D = df['Cost'].value_counts()\n",
    "    S = [(D[i]/df.shape[0])*100 for i in D.keys()]\n",
    "    i = max(S)\n",
    "    return  i,list(D.keys())[S.index(i)]\n",
    "    "
   ]
  },
  {
   "cell_type": "code",
   "execution_count": 21,
   "metadata": {},
   "outputs": [],
   "source": [
    "def Simulated_annealing(c,df,tsp_path,cities):\n",
    "    init_temp = 1.0e+300\n",
    "    end_temp = 1\n",
    "    cool_fact = 0.99\n",
    "    start_temp = init_temp\n",
    "    state = np.array([df['possible paths'][c]])\n",
    "    curr_score = np.vectorize(Score)(state)[0]\n",
    "    while (start_temp > end_temp):\n",
    "        new_path = np.array(Mutate(state,tsp_path,cities))\n",
    "        new_score = np.vectorize(Score)(new_path)[0]\n",
    "        dif = new_score - curr_score\n",
    "        if( dif > 0 or math.exp( (-1 * dif)/start_temp ) > random.random()):\n",
    "            state = new_path\n",
    "            curr_score  = new_score\n",
    "        start_temp = start_temp *  cool_fact\n",
    "    return (state,curr_score)"
   ]
  },
  {
   "cell_type": "code",
   "execution_count": 25,
   "metadata": {},
   "outputs": [
    {
     "name": "stderr",
     "output_type": "stream",
     "text": [
      "/tmp/ipykernel_114915/3458503754.py:1: NumbaWarning: \u001b[1m\n",
      "Compilation is falling back to object mode WITH looplifting enabled because Function \"my_kernel\" failed type inference due to: \u001b[1mUntyped global name 'percent':\u001b[0m \u001b[1m\u001b[1mCannot determine Numba type of <class 'function'>\u001b[0m\n",
      "\u001b[1m\n",
      "File \"../../../tmp/ipykernel_114915/3458503754.py\", line 3:\u001b[0m\n",
      "\u001b[1m<source missing, REPL/exec in use?>\u001b[0m\n",
      "\u001b[0m\u001b[0m\n",
      "  @jit(target_backend='cuda')\n",
      "/tmp/ipykernel_114915/3458503754.py:1: NumbaWarning: \u001b[1m\n",
      "Compilation is falling back to object mode WITHOUT looplifting enabled because Function \"my_kernel\" failed type inference due to: \u001b[1mUntyped global name 'percent':\u001b[0m \u001b[1m\u001b[1mCannot determine Numba type of <class 'function'>\u001b[0m\n",
      "\u001b[1m\n",
      "File \"../../../tmp/ipykernel_114915/3458503754.py\", line 3:\u001b[0m\n",
      "\u001b[1m<source missing, REPL/exec in use?>\u001b[0m\n",
      "\u001b[0m\u001b[0m\n",
      "  @jit(target_backend='cuda')\n",
      "/home/vignesh/.local/lib/python3.10/site-packages/numba/core/object_mode_passes.py:151: NumbaWarning: \u001b[1mFunction \"my_kernel\" was compiled in object mode without forceobj=True, but has lifted loops.\n",
      "\u001b[1m\n",
      "File \"../../../tmp/ipykernel_114915/3458503754.py\", line 3:\u001b[0m\n",
      "\u001b[1m<source missing, REPL/exec in use?>\u001b[0m\n",
      "\u001b[0m\n",
      "  warnings.warn(errors.NumbaWarning(warn_msg,\n",
      "/home/vignesh/.local/lib/python3.10/site-packages/numba/core/object_mode_passes.py:161: NumbaDeprecationWarning: \u001b[1m\n",
      "Fall-back from the nopython compilation path to the object mode compilation path has been detected, this is deprecated behaviour.\n",
      "\n",
      "For more information visit https://numba.readthedocs.io/en/stable/reference/deprecation.html#deprecation-of-object-mode-fall-back-behaviour-when-using-jit\n",
      "\u001b[1m\n",
      "File \"../../../tmp/ipykernel_114915/3458503754.py\", line 3:\u001b[0m\n",
      "\u001b[1m<source missing, REPL/exec in use?>\u001b[0m\n",
      "\u001b[0m\n",
      "  warnings.warn(errors.NumbaDeprecationWarning(msg,\n",
      "  0%|          | 0/1000 [00:00<?, ?it/s]/tmp/ipykernel_114915/3458503754.py:1: NumbaWarning: \u001b[1m\n",
      "Compilation is falling back to object mode WITHOUT looplifting enabled because Function \"my_kernel\" failed type inference due to: \u001b[1mUntyped global name 'RandomKSelect':\u001b[0m \u001b[1m\u001b[1mCannot determine Numba type of <class 'function'>\u001b[0m\n",
      "\u001b[1m\n",
      "File \"../../../tmp/ipykernel_114915/3458503754.py\", line 5:\u001b[0m\n",
      "\u001b[1m<source missing, REPL/exec in use?>\u001b[0m\n",
      "\u001b[0m\u001b[0m\n",
      "  @jit(target_backend='cuda')\n",
      "/home/vignesh/.local/lib/python3.10/site-packages/numba/core/object_mode_passes.py:151: NumbaWarning: \u001b[1mFunction \"my_kernel\" was compiled in object mode without forceobj=True.\n",
      "\u001b[1m\n",
      "File \"../../../tmp/ipykernel_114915/3458503754.py\", line 4:\u001b[0m\n",
      "\u001b[1m<source missing, REPL/exec in use?>\u001b[0m\n",
      "\u001b[0m\n",
      "  warnings.warn(errors.NumbaWarning(warn_msg,\n",
      "/home/vignesh/.local/lib/python3.10/site-packages/numba/core/object_mode_passes.py:161: NumbaDeprecationWarning: \u001b[1m\n",
      "Fall-back from the nopython compilation path to the object mode compilation path has been detected, this is deprecated behaviour.\n",
      "\n",
      "For more information visit https://numba.readthedocs.io/en/stable/reference/deprecation.html#deprecation-of-object-mode-fall-back-behaviour-when-using-jit\n",
      "\u001b[1m\n",
      "File \"../../../tmp/ipykernel_114915/3458503754.py\", line 4:\u001b[0m\n",
      "\u001b[1m<source missing, REPL/exec in use?>\u001b[0m\n",
      "\u001b[0m\n",
      "  warnings.warn(errors.NumbaDeprecationWarning(msg,\n",
      "100%|██████████| 1000/1000 [1:00:54<00:00,  3.65s/it]\n"
     ]
    }
   ],
   "source": [
    "@jit(target_backend='cuda')\n",
    "def my_kernel(df,cities,tsp_path):\n",
    "    F,value = percent(df)\n",
    "    for i in tqdm(range(1000)):\n",
    "        pare1  = RandomKSelect(4,None,df)\n",
    "        parent1 = Min(df,pare1)\n",
    "        pare2 = RandomKSelect(4,parent1,df)\n",
    "        parent2 = Min(df,pare2)\n",
    "        new_cross = np.array(CrossX(df['possible paths'][parent2],df['possible paths'][parent1],tsp_path,cities))\n",
    "        new_cross = np.array(Mutate(new_cross,tsp_path,cities))\n",
    "        Cost = np.vectorize(Score)(new_cross)\n",
    "        X = Simulated_annealing(random.randint(0,df.shape[0]-1),df,tsp_path,cities)\n",
    "        df = Updater(parent1,parent2,new_cross,Cost,df,X[0],X[1])\n",
    "        F,value = percent(df)\n",
    "    return [F,value]\n",
    "Out = my_kernel(df,cities,tsp_path)"
   ]
  },
  {
   "cell_type": "code",
   "execution_count": 27,
   "metadata": {},
   "outputs": [
    {
     "name": "stdout",
     "output_type": "stream",
     "text": [
      "Best Path: possible paths    E-D-A-C-B-E\n",
      "Cost                       34\n",
      "Name: 38, dtype: object\n"
     ]
    }
   ],
   "source": [
    "print(\"Best Path:\",df.iloc[Out[1]])"
   ]
  },
  {
   "attachments": {},
   "cell_type": "markdown",
   "metadata": {},
   "source": [
    "## END"
   ]
  }
 ],
 "metadata": {
  "kernelspec": {
   "display_name": "Python 3 (ipykernel)",
   "language": "python",
   "name": "python3"
  },
  "language_info": {
   "codemirror_mode": {
    "name": "ipython",
    "version": 3
   },
   "file_extension": ".py",
   "mimetype": "text/x-python",
   "name": "python",
   "nbconvert_exporter": "python",
   "pygments_lexer": "ipython3",
   "version": "3.10.6"
  },
  "vscode": {
   "interpreter": {
    "hash": "916dbcbb3f70747c44a77c7bcd40155683ae19c65e1c03b4aa3499c5328201f1"
   }
  }
 },
 "nbformat": 4,
 "nbformat_minor": 2
}
